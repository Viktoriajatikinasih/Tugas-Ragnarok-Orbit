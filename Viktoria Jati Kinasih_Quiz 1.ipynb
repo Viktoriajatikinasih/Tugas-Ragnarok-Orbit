{
 "cells": [
  {
   "cell_type": "markdown",
   "id": "2875fe5b",
   "metadata": {},
   "source": [
    "# QUIZ 11 MARET 2022"
   ]
  },
  {
   "cell_type": "markdown",
   "id": "775eae3b",
   "metadata": {},
   "source": [
    "PYTHON OOP"
   ]
  },
  {
   "cell_type": "markdown",
   "id": "0a68a8cf",
   "metadata": {},
   "source": [
    "1. OOP adalah suatu metode pemrograman yang berorientasi objek. "
   ]
  },
  {
   "cell_type": "code",
   "execution_count": 9,
   "id": "63d376a8",
   "metadata": {},
   "outputs": [],
   "source": [
    "#Implementasi OOP dalam pyhton : (Object)\n",
    "class Car:\n",
    "\n",
    "    color = 'black'\n",
    "    transmission = 'manual'\n",
    "    gear_position = 'N'\n",
    "\n",
    "    def __init__(self, transmission):\n",
    "        self.transmission = transmission\n",
    "        print('Engine is ready!')\n",
    "\n",
    "    def drive(self):\n",
    "        self.gear_position = 'D'\n",
    "        print('Drive')\n",
    "\n",
    "    def reverse(self):\n",
    "        self.gear_position = 'N'\n",
    "        print('Reverse. Please check your behind.')\n",
    "\n",
    "    def change_gear(self, gear='N'):\n",
    "        self.gear_position = gear\n",
    "        print('Gear position on: ' + self.gear_position)\n",
    "\n",
    "    def get_gear_position(self):\n",
    "        return self.gear_position\n",
    "\n",
    "car1 = Car('manual')\n",
    "car1.change_gear('D-1')\n",
    "\n",
    "car2 = Car('automatic')\n",
    "gear_position = car2.get_gear_position()\n",
    "print(gear_position)\n",
    ">>> 'N'"
   ]
  },
  {
   "cell_type": "markdown",
   "id": "953b4a90",
   "metadata": {},
   "source": [
    "2.\t2 jenis modules yang ada di python :"
   ]
  },
  {
   "cell_type": "code",
   "execution_count": 13,
   "id": "b2949193",
   "metadata": {},
   "outputs": [
    {
     "name": "stdout",
     "output_type": "stream",
     "text": [
      "Python custom modules\n",
      "didefinisikan file .py, yang dapat berisi: definisi fungsi, pernyataan yang dapat dieksekusi, definisi fungsi, yang secara kolektif disebut anggota modul\n"
     ]
    }
   ],
   "source": [
    "print (\"Python custom modules\")\n",
    "print (\"didefinisikan file .py, yang dapat berisi: definisi fungsi, pernyataan yang dapat dieksekusi, definisi fungsi, yang secara kolektif disebut anggota modul\")\n"
   ]
  },
  {
   "cell_type": "code",
   "execution_count": 14,
   "id": "3a6d5191",
   "metadata": {},
   "outputs": [
    {
     "name": "stdout",
     "output_type": "stream",
     "text": [
      "Python built in modules\n",
      "memiliki banyak fungsi bawaan, selain itu banyak fungsi tersedia sebagai bagian dari perpustakaan yang dibundel dengan distribusi python\n"
     ]
    }
   ],
   "source": [
    "print (\"Python built in modules\")\n",
    "print (\"memiliki banyak fungsi bawaan, selain itu banyak fungsi tersedia sebagai bagian dari perpustakaan yang dibundel dengan distribusi python\") \n"
   ]
  },
  {
   "cell_type": "markdown",
   "id": "461e5cc1",
   "metadata": {},
   "source": [
    "3. Hasil dari √147+4√7+(1/3)+3log⁡81  menggunakan module math"
   ]
  },
  {
   "cell_type": "code",
   "execution_count": 15,
   "id": "b5a47c9e",
   "metadata": {},
   "outputs": [
    {
     "data": {
      "text/plain": [
       "19.18866645035407"
      ]
     },
     "execution_count": 15,
     "metadata": {},
     "output_type": "execute_result"
    }
   ],
   "source": [
    "import math\n",
    "math.sqrt(175)+7**(1/4)+(1/3)+math.log(81,3)\n"
   ]
  },
  {
   "cell_type": "markdown",
   "id": "baff03e0",
   "metadata": {},
   "source": [
    "4.\tCustom exception handling ?"
   ]
  },
  {
   "cell_type": "code",
   "execution_count": 17,
   "id": "e21dfa2a",
   "metadata": {},
   "outputs": [
    {
     "name": "stdout",
     "output_type": "stream",
     "text": [
      "Custom exception handling adalah Teknik penanganan suatu kesalahan atau kasus khusus yang dapat di custom\n"
     ]
    }
   ],
   "source": [
    "print (\"Custom exception handling adalah Teknik penanganan suatu kesalahan atau kasus khusus yang dapat di custom\")"
   ]
  },
  {
   "cell_type": "code",
   "execution_count": 18,
   "id": "d1623b3d",
   "metadata": {},
   "outputs": [
    {
     "ename": "TypeError",
     "evalue": "Only integers are allowed",
     "output_type": "error",
     "traceback": [
      "\u001b[1;31m---------------------------------------------------------------------------\u001b[0m",
      "\u001b[1;31mTypeError\u001b[0m                                 Traceback (most recent call last)",
      "\u001b[1;32m~\\AppData\\Local\\Temp/ipykernel_12608/351426929.py\u001b[0m in \u001b[0;36m<module>\u001b[1;34m\u001b[0m\n\u001b[0;32m      3\u001b[0m \u001b[1;33m\u001b[0m\u001b[0m\n\u001b[0;32m      4\u001b[0m \u001b[1;32mif\u001b[0m \u001b[1;32mnot\u001b[0m \u001b[0mtype\u001b[0m\u001b[1;33m(\u001b[0m\u001b[0mx\u001b[0m\u001b[1;33m)\u001b[0m \u001b[1;32mis\u001b[0m \u001b[0mint\u001b[0m\u001b[1;33m:\u001b[0m\u001b[1;33m\u001b[0m\u001b[1;33m\u001b[0m\u001b[0m\n\u001b[1;32m----> 5\u001b[1;33m   \u001b[1;32mraise\u001b[0m \u001b[0mTypeError\u001b[0m\u001b[1;33m(\u001b[0m\u001b[1;34m\"Only integers are allowed\"\u001b[0m\u001b[1;33m)\u001b[0m\u001b[1;33m\u001b[0m\u001b[1;33m\u001b[0m\u001b[0m\n\u001b[0m",
      "\u001b[1;31mTypeError\u001b[0m: Only integers are allowed"
     ]
    }
   ],
   "source": [
    "#contoh\n",
    "x = \"hello\"\n",
    "\n",
    "if not type(x) is int:\n",
    "  raise TypeError(\"Only integers are allowed\")\n"
   ]
  },
  {
   "cell_type": "markdown",
   "id": "e2dd5b6d",
   "metadata": {},
   "source": [
    "AI"
   ]
  },
  {
   "cell_type": "markdown",
   "id": "4d180b7a",
   "metadata": {},
   "source": [
    "1. perbedaan structured dan unstructured data, sebutkan 3 sumber data !"
   ]
  },
  {
   "cell_type": "code",
   "execution_count": 20,
   "id": "320e735e",
   "metadata": {},
   "outputs": [
    {
     "name": "stdout",
     "output_type": "stream",
     "text": [
      "Structured data : direpresentasikan dengan skema yang jelas sehingga mudah untuk dianalisa maupun diintegrasikan dengan data terstruktur lainnya\n"
     ]
    }
   ],
   "source": [
    "print (\"Structured data : direpresentasikan dengan skema yang jelas sehingga mudah untuk dianalisa maupun diintegrasikan dengan data terstruktur lainnya\")"
   ]
  },
  {
   "cell_type": "code",
   "execution_count": 21,
   "id": "2cd0f8f0",
   "metadata": {},
   "outputs": [
    {
     "name": "stdout",
     "output_type": "stream",
     "text": [
      "Unstructured data : direpresentasikan dalam berbagai bentuk sehingga sangat sulit untuk dianalisis maupun diintegrasikan dengan sumber data lain\n"
     ]
    }
   ],
   "source": [
    "print (\"Unstructured data : direpresentasikan dalam berbagai bentuk sehingga sangat sulit untuk dianalisis maupun diintegrasikan dengan sumber data lain\")"
   ]
  },
  {
   "cell_type": "code",
   "execution_count": 22,
   "id": "7cff5976",
   "metadata": {},
   "outputs": [
    {
     "name": "stdout",
     "output_type": "stream",
     "text": [
      "Sumber data :\n",
      "Sensor\n",
      "Interaksi Sosial\n",
      "Transaksi Bisnis\n"
     ]
    }
   ],
   "source": [
    "print (\"Sumber data :\")\n",
    "print (\"Sensor\")\n",
    "print (\"Interaksi Sosial\")\n",
    "print (\"Transaksi Bisnis\")"
   ]
  },
  {
   "cell_type": "markdown",
   "id": "a04ebebd",
   "metadata": {},
   "source": [
    "2. Perbedaan AI, ML, dan DL ?"
   ]
  },
  {
   "cell_type": "code",
   "execution_count": 23,
   "id": "eb176970",
   "metadata": {},
   "outputs": [
    {
     "name": "stdout",
     "output_type": "stream",
     "text": [
      "AI merupakan algoritma yang digunakan untuk membentuk sebuah kecerdasan\n"
     ]
    }
   ],
   "source": [
    "print (\"AI merupakan algoritma yang digunakan untuk membentuk sebuah kecerdasan\")"
   ]
  },
  {
   "cell_type": "code",
   "execution_count": 24,
   "id": "81978f90",
   "metadata": {},
   "outputs": [
    {
     "name": "stdout",
     "output_type": "stream",
     "text": [
      "ML merupakan Algortima yang menggunakan data untuk membentuk kecerdasan\n"
     ]
    }
   ],
   "source": [
    "print (\"ML merupakan Algortima yang menggunakan data untuk membentuk kecerdasan\")"
   ]
  },
  {
   "cell_type": "code",
   "execution_count": 25,
   "id": "c8d08672",
   "metadata": {},
   "outputs": [
    {
     "name": "stdout",
     "output_type": "stream",
     "text": [
      "DL itu Ketika kita bermain automated feature engineering. Bagian dari ML yang memungkinkan software melatih dirinya sendiri untuk melakukan tugas dengan data dalam jumlah besar\n"
     ]
    }
   ],
   "source": [
    "print (\"DL itu Ketika kita bermain automated feature engineering. Bagian dari ML yang memungkinkan software melatih dirinya sendiri untuk melakukan tugas dengan data dalam jumlah besar\")"
   ]
  },
  {
   "cell_type": "markdown",
   "id": "469283a1",
   "metadata": {},
   "source": [
    "3. perbedaan ML dan Tradisional Software"
   ]
  },
  {
   "cell_type": "code",
   "execution_count": 26,
   "id": "52bd6b2a",
   "metadata": {},
   "outputs": [
    {
     "name": "stdout",
     "output_type": "stream",
     "text": [
      "ML : data dan output dibutuhkan computer untuk menghasilkan program\n"
     ]
    }
   ],
   "source": [
    "print (\"ML : data dan output dibutuhkan computer untuk menghasilkan program\")"
   ]
  },
  {
   "cell_type": "code",
   "execution_count": 27,
   "id": "5bad0189",
   "metadata": {},
   "outputs": [
    {
     "name": "stdout",
     "output_type": "stream",
     "text": [
      "Tradisional software : computer memerlukan data dan program untuk menghasilkan output\n"
     ]
    }
   ],
   "source": [
    "print (\"Tradisional software : computer memerlukan data dan program untuk menghasilkan output\")"
   ]
  },
  {
   "cell_type": "markdown",
   "id": "05864fc9",
   "metadata": {},
   "source": [
    "4. contoh aplikasi ML di sektor smart city dan agriculture :"
   ]
  },
  {
   "cell_type": "code",
   "execution_count": 49,
   "id": "80decd9a",
   "metadata": {},
   "outputs": [
    {
     "name": "stdout",
     "output_type": "stream",
     "text": [
      "Smart City\n",
      "Algoritma  Convolutional  Neural  Network - Support  Vector  Machine  (CNN-SVM) digunakan  dalam  pemecahan  masalah  pemilihan  area  plat  kendaraan,  sehingga  dari data  tersebut dapat  digunakan  untuk  memecahkan  masalah dalam  pemantauan  lalu lintas jalan,  pembayaran tol  otomatis, dan  manajemen parker\n"
     ]
    }
   ],
   "source": [
    "print (\"Smart City\")\n",
    "print (\"Algoritma  Convolutional  Neural  Network - Support  Vector  Machine  (CNN-SVM) digunakan  dalam  pemecahan  masalah  pemilihan  area  plat  kendaraan,  sehingga  dari data  tersebut dapat  digunakan  untuk  memecahkan  masalah dalam  pemantauan  lalu lintas jalan,  pembayaran tol  otomatis, dan  manajemen parker\")"
   ]
  },
  {
   "cell_type": "code",
   "execution_count": 50,
   "id": "e205d28c",
   "metadata": {},
   "outputs": [
    {
     "name": "stdout",
     "output_type": "stream",
     "text": [
      "Agriculture\n",
      "Algoritma k-NN dapat digunakan dalam klasifikasi data hasil produksi kelapa sawit pada  PT.  Minamas  Kec.  Parindu\n"
     ]
    }
   ],
   "source": [
    "print (\"Agriculture\")\n",
    "print (\"Algoritma k-NN dapat digunakan dalam klasifikasi data hasil produksi kelapa sawit pada  PT.  Minamas  Kec.  Parindu\")"
   ]
  },
  {
   "cell_type": "markdown",
   "id": "4532c770",
   "metadata": {},
   "source": [
    "MATHS FOR AI"
   ]
  },
  {
   "cell_type": "markdown",
   "id": "cac07e45",
   "metadata": {},
   "source": [
    "1. Alasan Ilmu matematika penting ketika mempelajari AI"
   ]
  },
  {
   "cell_type": "code",
   "execution_count": 29,
   "id": "c25c79f9",
   "metadata": {},
   "outputs": [
    {
     "name": "stdout",
     "output_type": "stream",
     "text": [
      "Ilmu matematika penting Ketika mempelajari AI karena pembelajaran mesin juga berdasarkan suatu ilmu yaitu matematika. Oleh karena itu, kecerdasan buatan seluruhnya berdasarkan ilmu matematika sehingga untuk mengembangkan teknologi kecerdasan buatan ini, pembelajaran matematika harus ikut berkembang juga.\n"
     ]
    }
   ],
   "source": [
    "print (\"Ilmu matematika penting Ketika mempelajari AI karena pembelajaran mesin juga berdasarkan suatu ilmu yaitu matematika. Oleh karena itu, kecerdasan buatan seluruhnya berdasarkan ilmu matematika sehingga untuk mengembangkan teknologi kecerdasan buatan ini, pembelajaran matematika harus ikut berkembang juga.\")"
   ]
  },
  {
   "cell_type": "markdown",
   "id": "52313ac9",
   "metadata": {},
   "source": [
    "2. Perbedaan Vektor dan Skalar"
   ]
  },
  {
   "cell_type": "code",
   "execution_count": 30,
   "id": "2cc8ddd1",
   "metadata": {},
   "outputs": [
    {
     "name": "stdout",
     "output_type": "stream",
     "text": [
      "Vector : besaran yang memiliki nilai dan arah\n",
      "Scalar : konstanta atau besaran yang memiliki nilai\n"
     ]
    }
   ],
   "source": [
    "print (\"Vector : besaran yang memiliki nilai dan arah\")\n",
    "print (\"Scalar : konstanta atau besaran yang memiliki nilai\")"
   ]
  },
  {
   "cell_type": "markdown",
   "id": "d49087e7",
   "metadata": {},
   "source": [
    "3. Jarak Euclidean dan Manhattan"
   ]
  },
  {
   "cell_type": "code",
   "execution_count": 32,
   "id": "b7e259d1",
   "metadata": {},
   "outputs": [
    {
     "name": "stdout",
     "output_type": "stream",
     "text": [
      "Jarak Euclidean : jarak antara dua titik yang satu dengan yang lain yang dapat diukur dengna menggunakan penggaris, pada perhitungan jarak Euclidean digunakan formula Pythagoras\n"
     ]
    }
   ],
   "source": [
    "print (\"Jarak Euclidean : jarak antara dua titik yang satu dengan yang lain yang dapat diukur dengna menggunakan penggaris, pada perhitungan jarak Euclidean digunakan formula Pythagoras\")"
   ]
  },
  {
   "cell_type": "code",
   "execution_count": 33,
   "id": "626cc626",
   "metadata": {},
   "outputs": [
    {
     "name": "stdout",
     "output_type": "stream",
     "text": [
      "Manhattan : merupakan bentuk geometri di mana fungsi jarak biasa atau metrik geometri Euclidean digantikan oleh metrik baru di mana jarak antara dua titik adalah jumlah dari perbedaan mutlak mereka Cartesian koordinat\n"
     ]
    }
   ],
   "source": [
    "print (\"Manhattan : merupakan bentuk geometri di mana fungsi jarak biasa atau metrik geometri Euclidean digantikan oleh metrik baru di mana jarak antara dua titik adalah jumlah dari perbedaan mutlak mereka Cartesian koordinat\")"
   ]
  },
  {
   "cell_type": "markdown",
   "id": "fc70d195",
   "metadata": {},
   "source": [
    "4. Kegunaan matriks dalam matematika ketika mempelajari AI"
   ]
  },
  {
   "cell_type": "code",
   "execution_count": 35,
   "id": "b6810f54",
   "metadata": {},
   "outputs": [
    {
     "name": "stdout",
     "output_type": "stream",
     "text": [
      "Kegunaan matriks dalam matematika Ketika mempelajari AI yaitu karena matriks merupakan salah satu dasar pada Aljabar Linear yang merupakan salah satu bidan matematika yang dibutuhkan untuk AI\n"
     ]
    }
   ],
   "source": [
    "print (\"Kegunaan matriks dalam matematika Ketika mempelajari AI yaitu karena matriks merupakan salah satu dasar pada Aljabar Linear yang merupakan salah satu bidan matematika yang dibutuhkan untuk AI\")"
   ]
  },
  {
   "cell_type": "markdown",
   "id": "3f39bc08",
   "metadata": {},
   "source": [
    "MACHINE LEARNING"
   ]
  },
  {
   "cell_type": "markdown",
   "id": "46ccd9de",
   "metadata": {},
   "source": [
    "1. Perbedaan supervised learning dan Unsupervised learning"
   ]
  },
  {
   "cell_type": "code",
   "execution_count": 36,
   "id": "e5d50ccc",
   "metadata": {},
   "outputs": [
    {
     "name": "stdout",
     "output_type": "stream",
     "text": [
      "Supervised Learning\n",
      "Umumnya digunakan untuk menemukan pola dalam data masukan yang diberi label sehigga kita menghasilkan data keluaran yang benar secara efektif.\n",
      "Ciri ciri :\n",
      "Data training telah diberi label\n",
      "Algoritma  memprediksi output dari input, contoh (klasifikasi, regresi)\n"
     ]
    }
   ],
   "source": [
    "print (\"Supervised Learning\")\n",
    "print (\"Umumnya digunakan untuk menemukan pola dalam data masukan yang diberi label sehigga kita menghasilkan data keluaran yang benar secara efektif.\")\n",
    "print (\"Ciri ciri :\")\n",
    "print (\"Data training telah diberi label\")\n",
    "print (\"Algoritma  memprediksi output dari input, contoh (klasifikasi, regresi)\")"
   ]
  },
  {
   "cell_type": "code",
   "execution_count": 37,
   "id": "5835727a",
   "metadata": {},
   "outputs": [
    {
     "name": "stdout",
     "output_type": "stream",
     "text": [
      "Unsupervised learning\n",
      "UUmumnya digunakan untuk mempelajari struktur karakteristik data kita tanpa menggunakan label yang disediakan secara eksplisit.\n",
      "Ciri ciri :\n",
      "Data training tidak berlabel\n",
      "Algoritma mempelajari struktur karakteristik dari data masukan, contoh (clustering, dimensional reduction)\n"
     ]
    }
   ],
   "source": [
    "print (\"Unsupervised learning\")\n",
    "print (\"UUmumnya digunakan untuk mempelajari struktur karakteristik data kita tanpa menggunakan label yang disediakan secara eksplisit.\")\n",
    "print (\"Ciri ciri :\")\n",
    "print (\"Data training tidak berlabel\")\n",
    "print (\"Algoritma mempelajari struktur karakteristik dari data masukan, contoh (clustering, dimensional reduction)\")"
   ]
  },
  {
   "cell_type": "markdown",
   "id": "0735b80d",
   "metadata": {},
   "source": [
    "2. Tahap yang ada di Machine learning life cycle :"
   ]
  },
  {
   "cell_type": "code",
   "execution_count": 38,
   "id": "a1e0bc5a",
   "metadata": {},
   "outputs": [
    {
     "name": "stdout",
     "output_type": "stream",
     "text": [
      "Gathering Data\n",
      "Pengumpulan Data adalah langkah pertama dari siklus hidup pembelajaran mesin. Tujuan dari langkah ini adalah untuk mengidentifikasi dan mendapatkan semua masalah terkait data\n"
     ]
    }
   ],
   "source": [
    "print (\"Gathering Data\")\n",
    "print (\"Pengumpulan Data adalah langkah pertama dari siklus hidup pembelajaran mesin. Tujuan dari langkah ini adalah untuk mengidentifikasi dan mendapatkan semua masalah terkait data\")"
   ]
  },
  {
   "cell_type": "code",
   "execution_count": 39,
   "id": "3cc62a45",
   "metadata": {},
   "outputs": [
    {
     "name": "stdout",
     "output_type": "stream",
     "text": [
      "Data preparation\n",
      "Persiapan data adalah langkah di mana kita menempatkan data kita ke tempat yang sesuai dan mempersiapkannya untuk digunakan dalam pelatihan pembelajaran mesin.\n"
     ]
    }
   ],
   "source": [
    "print (\"Data preparation\")\n",
    "print (\"Persiapan data adalah langkah di mana kita menempatkan data kita ke tempat yang sesuai dan mempersiapkannya untuk digunakan dalam pelatihan pembelajaran mesin.\")"
   ]
  },
  {
   "cell_type": "code",
   "execution_count": 40,
   "id": "124d03c6",
   "metadata": {},
   "outputs": [
    {
     "name": "stdout",
     "output_type": "stream",
     "text": [
      "Data Wrangling\n",
      "Perselisihan data adalah proses membersihkan dan mengubah data mentah menjadi format yang dapat digunakan. Ini adalah proses membersihkan data, memilih variabel yang akan digunakan, dan mengubah data dalam format yang tepat agar lebih cocok untuk analisis pada langkah berikutnya. Ini adalah salah satu langkah terpenting dari proses lengkap.\n"
     ]
    }
   ],
   "source": [
    "print (\"Data Wrangling\")\n",
    "print (\"Perselisihan data adalah proses membersihkan dan mengubah data mentah menjadi format yang dapat digunakan. Ini adalah proses membersihkan data, memilih variabel yang akan digunakan, dan mengubah data dalam format yang tepat agar lebih cocok untuk analisis pada langkah berikutnya. Ini adalah salah satu langkah terpenting dari proses lengkap.\")"
   ]
  },
  {
   "cell_type": "code",
   "execution_count": 41,
   "id": "e2dcffa9",
   "metadata": {},
   "outputs": [
    {
     "name": "stdout",
     "output_type": "stream",
     "text": [
      "Analyse Data\n",
      "Tujuan dari langkah ini adalah untuk membangun model pembelajaran mesin untuk menganalisis data menggunakan berbagai teknik analisis dan meninjau hasilnya\n"
     ]
    }
   ],
   "source": [
    "print (\"Analyse Data\")\n",
    "print (\"Tujuan dari langkah ini adalah untuk membangun model pembelajaran mesin untuk menganalisis data menggunakan berbagai teknik analisis dan meninjau hasilnya\")"
   ]
  },
  {
   "cell_type": "code",
   "execution_count": 42,
   "id": "a37a42ce",
   "metadata": {},
   "outputs": [
    {
     "name": "stdout",
     "output_type": "stream",
     "text": [
      "Train the model\n",
      "dalam langkah ini kita melatih model untuk meningkatkan kinerjanya untuk hasil yang lebih baik dari masalah\n",
      "Menggunakan kumpulan data untuk melatih model menggunakan berbagai algoritme pembelajaran mesin. Pelatihan sebuah model diperlukan agar dapat memahami berbagai pola, aturan, dan fitur\n"
     ]
    }
   ],
   "source": [
    "print (\"Train the model\")\n",
    "print (\"dalam langkah ini kita melatih model untuk meningkatkan kinerjanya untuk hasil yang lebih baik dari masalah\")\n",
    "print (\"Menggunakan kumpulan data untuk melatih model menggunakan berbagai algoritme pembelajaran mesin. Pelatihan sebuah model diperlukan agar dapat memahami berbagai pola, aturan, dan fitur\")"
   ]
  },
  {
   "cell_type": "code",
   "execution_count": 43,
   "id": "3fe803ec",
   "metadata": {},
   "outputs": [
    {
     "name": "stdout",
     "output_type": "stream",
     "text": [
      "Test the model\n",
      "Memeriksa keakuratan model dengan menyediakan kumpulan data uji untuk itu\n"
     ]
    }
   ],
   "source": [
    "print (\"Test the model\")\n",
    "print (\"Memeriksa keakuratan model dengan menyediakan kumpulan data uji untuk itu\")"
   ]
  },
  {
   "cell_type": "code",
   "execution_count": 44,
   "id": "667443cc",
   "metadata": {},
   "outputs": [
    {
     "name": "stdout",
     "output_type": "stream",
     "text": [
      "Deployment\n",
      "Langkah terakhir dari siklus hidup pembelajaran mesin adalah penerapan, di mana kita menerapkan model dalam sistem dunia nyata\n"
     ]
    }
   ],
   "source": [
    "print (\"Deployment\")\n",
    "print (\"Langkah terakhir dari siklus hidup pembelajaran mesin adalah penerapan, di mana kita menerapkan model dalam sistem dunia nyata\")"
   ]
  },
  {
   "cell_type": "markdown",
   "id": "9977357e",
   "metadata": {},
   "source": [
    "3. Perbedaan Regression dan Clustering :"
   ]
  },
  {
   "cell_type": "code",
   "execution_count": 46,
   "id": "8f9d247f",
   "metadata": {},
   "outputs": [
    {
     "name": "stdout",
     "output_type": "stream",
     "text": [
      "Regression : memetakan masukan ke keluaran berkelanjutan, merupakan contoh dari supervised learning\n"
     ]
    }
   ],
   "source": [
    "print (\"Regression : memetakan masukan ke keluaran berkelanjutan, merupakan contoh dari supervised learning\")"
   ]
  },
  {
   "cell_type": "code",
   "execution_count": 47,
   "id": "557f78d3",
   "metadata": {},
   "outputs": [
    {
     "name": "stdout",
     "output_type": "stream",
     "text": [
      "Clustering : mempelajari hubungan antara fitur individu, mrupakan contoh dari unsupervised  learning\n"
     ]
    }
   ],
   "source": [
    "print (\"Clustering : mempelajari hubungan antara fitur individu, mrupakan contoh dari unsupervised  learning\")"
   ]
  },
  {
   "cell_type": "markdown",
   "id": "c3e59e65",
   "metadata": {},
   "source": [
    "4. Yang dimaksud dengan algoritma ANN dan fungsinya"
   ]
  },
  {
   "cell_type": "code",
   "execution_count": 48,
   "id": "49699b2b",
   "metadata": {},
   "outputs": [
    {
     "name": "stdout",
     "output_type": "stream",
     "text": [
      "Algoritma ANN teknologi AI yang meniru dan terinspirasi dari cara kerja neuron pada otak manusia. Fungsinya sebagai cikal bakal teknologi deep learning\n"
     ]
    }
   ],
   "source": [
    "print (\"Algoritma ANN teknologi AI yang meniru dan terinspirasi dari cara kerja neuron pada otak manusia. Fungsinya sebagai cikal bakal teknologi deep learning\")"
   ]
  },
  {
   "cell_type": "code",
   "execution_count": null,
   "id": "ead203a5",
   "metadata": {},
   "outputs": [],
   "source": []
  }
 ],
 "metadata": {
  "kernelspec": {
   "display_name": "Python 3 (ipykernel)",
   "language": "python",
   "name": "python3"
  },
  "language_info": {
   "codemirror_mode": {
    "name": "ipython",
    "version": 3
   },
   "file_extension": ".py",
   "mimetype": "text/x-python",
   "name": "python",
   "nbconvert_exporter": "python",
   "pygments_lexer": "ipython3",
   "version": "3.9.7"
  }
 },
 "nbformat": 4,
 "nbformat_minor": 5
}
