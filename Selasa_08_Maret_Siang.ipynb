{
 "cells": [
  {
   "cell_type": "markdown",
   "metadata": {
    "id": "F9RmP8oJEr-8"
   },
   "source": [
    "# Operasi Matematika & Numpy"
   ]
  },
  {
   "cell_type": "markdown",
   "metadata": {
    "id": "kjS8YZLAMXB_"
   },
   "source": [
    "### Latihan-4 (Operasi matriks)"
   ]
  },
  {
   "cell_type": "code",
   "execution_count": null,
   "metadata": {
    "id": "RIH4ROFmGuip"
   },
   "outputs": [],
   "source": [
    "A = np.array([[1, 2], [7,8]])\n",
    "B = np.array([[3, 5], [1,6]])"
   ]
  },
  {
   "cell_type": "markdown",
   "metadata": {
    "id": "dj6lY65jLBqx"
   },
   "source": [
    "Hitunglah:\n",
    "*   2*A\n",
    "*   2+A\n",
    "*   A+B\n",
    "*   A-B\n",
    "*   determinan A\n",
    "*   invers dari B, simpan jadi matriks D\n",
    "*   transpose D\n",
    "*   nilai eigen dan vektor eigen dari A dan B\n",
    "\n",
    "\n",
    "\n",
    "\n",
    "\n"
   ]
  },
  {
   "cell_type": "code",
   "execution_count": 3,
   "metadata": {},
   "outputs": [
    {
     "name": "stdout",
     "output_type": "stream",
     "text": [
      "[[1 2]\n",
      " [7 8]]\n"
     ]
    }
   ],
   "source": [
    "import numpy as np\n",
    "A = np.array([[1, 2], [7,8]])\n",
    "B = np.array([[3, 5], [1,6]])\n",
    "print (A)"
   ]
  },
  {
   "cell_type": "code",
   "execution_count": 4,
   "metadata": {},
   "outputs": [
    {
     "name": "stdout",
     "output_type": "stream",
     "text": [
      "[[3 5]\n",
      " [1 6]]\n"
     ]
    }
   ],
   "source": [
    "print (B)"
   ]
  },
  {
   "cell_type": "markdown",
   "metadata": {},
   "source": [
    "### 2 * A"
   ]
  },
  {
   "cell_type": "code",
   "execution_count": 5,
   "metadata": {},
   "outputs": [
    {
     "name": "stdout",
     "output_type": "stream",
     "text": [
      "Hasil dari 2 * A adalah ...\n",
      "[[ 2  4]\n",
      " [14 16]]\n"
     ]
    }
   ],
   "source": [
    "X = 2*A\n",
    "print (\"Hasil dari 2 * A adalah ...\")\n",
    "print (X)"
   ]
  },
  {
   "cell_type": "markdown",
   "metadata": {},
   "source": [
    "### 2 + A"
   ]
  },
  {
   "cell_type": "code",
   "execution_count": 6,
   "metadata": {},
   "outputs": [
    {
     "name": "stdout",
     "output_type": "stream",
     "text": [
      "Hasil dari 2 + A adalah ...\n",
      "[[ 3  4]\n",
      " [ 9 10]]\n"
     ]
    }
   ],
   "source": [
    "Y = 2+A\n",
    "print (\"Hasil dari 2 + A adalah ...\")\n",
    "print (Y)"
   ]
  },
  {
   "cell_type": "markdown",
   "metadata": {},
   "source": [
    "### A + B"
   ]
  },
  {
   "cell_type": "code",
   "execution_count": 7,
   "metadata": {},
   "outputs": [
    {
     "name": "stdout",
     "output_type": "stream",
     "text": [
      "Hasil dari A + B adalah ...\n",
      "[[ 4  7]\n",
      " [ 8 14]]\n"
     ]
    }
   ],
   "source": [
    "C = A+B\n",
    "print (\"Hasil dari A + B adalah ...\")\n",
    "print (C)"
   ]
  },
  {
   "cell_type": "markdown",
   "metadata": {},
   "source": [
    "### A - B"
   ]
  },
  {
   "cell_type": "code",
   "execution_count": 8,
   "metadata": {},
   "outputs": [
    {
     "name": "stdout",
     "output_type": "stream",
     "text": [
      "Hasil dari A - B adalah ...\n",
      "[[-2 -3]\n",
      " [ 6  2]]\n"
     ]
    }
   ],
   "source": [
    "Z = A-B\n",
    "print (\"Hasil dari A - B adalah ...\")\n",
    "print (Z)"
   ]
  },
  {
   "cell_type": "markdown",
   "metadata": {},
   "source": [
    "### Determinan A"
   ]
  },
  {
   "cell_type": "code",
   "execution_count": 9,
   "metadata": {},
   "outputs": [
    {
     "name": "stdout",
     "output_type": "stream",
     "text": [
      "Hasil dari Determinan A adalah ...\n",
      "-6.0\n"
     ]
    }
   ],
   "source": [
    "det_A = np.linalg.det(A)\n",
    "print (\"Hasil dari Determinan A adalah ...\")\n",
    "print (det_A)"
   ]
  },
  {
   "cell_type": "markdown",
   "metadata": {},
   "source": [
    "### Invers B = D"
   ]
  },
  {
   "cell_type": "code",
   "execution_count": 10,
   "metadata": {},
   "outputs": [
    {
     "name": "stdout",
     "output_type": "stream",
     "text": [
      "Hasil dari Invers B adalah ...\n",
      "[[ 0.46153846 -0.38461538]\n",
      " [-0.07692308  0.23076923]]\n"
     ]
    }
   ],
   "source": [
    "D = np.linalg.inv(B)\n",
    "print (\"Hasil dari Invers B adalah ...\")\n",
    "print (D)"
   ]
  },
  {
   "cell_type": "markdown",
   "metadata": {},
   "source": [
    "### Transpose Matriks D"
   ]
  },
  {
   "cell_type": "code",
   "execution_count": 11,
   "metadata": {},
   "outputs": [],
   "source": [
    "D = np.array([[0.46153846, -0.38461538], [-0.07692308,  0.23076923]])"
   ]
  },
  {
   "cell_type": "code",
   "execution_count": 12,
   "metadata": {},
   "outputs": [
    {
     "name": "stdout",
     "output_type": "stream",
     "text": [
      "[[ 0.46153846 -0.38461538]\n",
      " [-0.07692308  0.23076923]]\n"
     ]
    }
   ],
   "source": [
    "print (D)"
   ]
  },
  {
   "cell_type": "code",
   "execution_count": 13,
   "metadata": {},
   "outputs": [
    {
     "name": "stdout",
     "output_type": "stream",
     "text": [
      "Transpose Matriks D adalah...\n",
      "[[ 0.46153846 -0.07692308]\n",
      " [-0.38461538  0.23076923]]\n"
     ]
    }
   ],
   "source": [
    "Dt = D.transpose()\n",
    "print (\"Transpose Matriks D adalah...\")\n",
    "print (Dt)"
   ]
  },
  {
   "cell_type": "markdown",
   "metadata": {},
   "source": [
    "### nilai eigen dan vektor eigen dari A dan B"
   ]
  },
  {
   "cell_type": "code",
   "execution_count": 14,
   "metadata": {},
   "outputs": [
    {
     "name": "stdout",
     "output_type": "stream",
     "text": [
      "[[1 2]\n",
      " [7 8]]\n"
     ]
    }
   ],
   "source": [
    "A = np.array([[1, 2], [7,8]])\n",
    "print (A)"
   ]
  },
  {
   "cell_type": "code",
   "execution_count": 15,
   "metadata": {},
   "outputs": [
    {
     "name": "stdout",
     "output_type": "stream",
     "text": [
      "(array([-0.62347538,  9.62347538]), array([[-0.77640358, -0.22592838],\n",
      "       [ 0.63023605, -0.97414391]]))\n"
     ]
    }
   ],
   "source": [
    "print (np.linalg.eig(A))"
   ]
  },
  {
   "cell_type": "code",
   "execution_count": 16,
   "metadata": {},
   "outputs": [],
   "source": [
    "e_val_A, e_vec_A = np.linalg.eig(A)"
   ]
  },
  {
   "cell_type": "code",
   "execution_count": 17,
   "metadata": {},
   "outputs": [
    {
     "name": "stdout",
     "output_type": "stream",
     "text": [
      "[-0.62347538  9.62347538]\n"
     ]
    }
   ],
   "source": [
    "print (e_val_A)"
   ]
  },
  {
   "cell_type": "code",
   "execution_count": 18,
   "metadata": {},
   "outputs": [
    {
     "name": "stdout",
     "output_type": "stream",
     "text": [
      "[[-0.77640358 -0.22592838]\n",
      " [ 0.63023605 -0.97414391]]\n"
     ]
    }
   ],
   "source": [
    "print (e_vec_A)"
   ]
  },
  {
   "cell_type": "code",
   "execution_count": 19,
   "metadata": {},
   "outputs": [
    {
     "name": "stdout",
     "output_type": "stream",
     "text": [
      "[[3 5]\n",
      " [1 6]]\n"
     ]
    }
   ],
   "source": [
    "B = np.array([[3, 5], [1,6]])\n",
    "print (B)"
   ]
  },
  {
   "cell_type": "code",
   "execution_count": 20,
   "metadata": {},
   "outputs": [
    {
     "name": "stdout",
     "output_type": "stream",
     "text": [
      "(array([1.8074176, 7.1925824]), array([[-0.97271381, -0.76626443],\n",
      "       [ 0.23200828, -0.64252535]]))\n"
     ]
    }
   ],
   "source": [
    "print (np.linalg.eig(B))"
   ]
  },
  {
   "cell_type": "code",
   "execution_count": 21,
   "metadata": {},
   "outputs": [],
   "source": [
    "e_val_B, e_vec_B = np.linalg.eig(B)"
   ]
  },
  {
   "cell_type": "code",
   "execution_count": 22,
   "metadata": {},
   "outputs": [
    {
     "name": "stdout",
     "output_type": "stream",
     "text": [
      "[1.8074176 7.1925824]\n"
     ]
    }
   ],
   "source": [
    "print (e_val_B)"
   ]
  },
  {
   "cell_type": "code",
   "execution_count": 23,
   "metadata": {},
   "outputs": [
    {
     "name": "stdout",
     "output_type": "stream",
     "text": [
      "[[-0.97271381 -0.76626443]\n",
      " [ 0.23200828 -0.64252535]]\n"
     ]
    }
   ],
   "source": [
    "print (e_vec_B)"
   ]
  }
 ],
 "metadata": {
  "colab": {
   "collapsed_sections": [],
   "name": "Selasa_Maths_AI_dengan_Python(pengenalan).ipynb",
   "provenance": []
  },
  "kernelspec": {
   "display_name": "Python 3 (ipykernel)",
   "language": "python",
   "name": "python3"
  },
  "language_info": {
   "codemirror_mode": {
    "name": "ipython",
    "version": 3
   },
   "file_extension": ".py",
   "mimetype": "text/x-python",
   "name": "python",
   "nbconvert_exporter": "python",
   "pygments_lexer": "ipython3",
   "version": "3.9.7"
  }
 },
 "nbformat": 4,
 "nbformat_minor": 1
}
