{
 "cells": [
  {
   "cell_type": "markdown",
   "metadata": {
    "id": "jxicmjLxkXCa"
   },
   "source": [
    "# **Object Oriented Programming**"
   ]
  },
  {
   "cell_type": "markdown",
   "metadata": {
    "id": "SLOP8yGkbpLO"
   },
   "source": [
    "# **Method**"
   ]
  },
  {
   "cell_type": "code",
   "execution_count": 6,
   "metadata": {},
   "outputs": [
    {
     "name": "stdout",
     "output_type": "stream",
     "text": [
      "Nama: Viktoria Jati Kinasih, Jurusan: Ilmu Komputer, Semester: 6, Angkatan: 2019\n",
      "Hai perkenalkan nama saya \n"
     ]
    }
   ],
   "source": [
    "nama = \"Viktoria Jati Kinasih\"\n",
    "jurusan = \"Ilmu Komputer\"\n",
    "semester = 6\n",
    "angkatan = 2019\n",
    "\n",
    "def salam():\n",
    "        print(\"Hai perkenalkan nama saya \")\n",
    "\n",
    "def info_mahasiswa(nama, jurusan, semester, angkatan):\n",
    "  print(f\"Nama: {nama}, Jurusan: {jurusan}, Semester: {semester}, Angkatan: {angkatan}\") \n",
    "\n",
    "info_mahasiswa(nama, jurusan, semester, angkatan)\n",
    "salam()"
   ]
  },
  {
   "cell_type": "markdown",
   "metadata": {
    "id": "K_u-Dtb6kcBm"
   },
   "source": [
    "## **Encapsulation**"
   ]
  },
  {
   "cell_type": "code",
   "execution_count": 44,
   "metadata": {},
   "outputs": [
    {
     "name": "stdout",
     "output_type": "stream",
     "text": [
      "Nama: Victorio Jati Gumelar, Jenjang: SD, Riwayat Pendidikan Terakhir: S1, Tempat Mengajar: SDIT Ikhsanul Fikri\n",
      "Halo Selamat Pagi Murid-murid, Perkenalkan Nama Bapak Victorio Jati Gumelar\n"
     ]
    }
   ],
   "source": [
    "class Guru(object):  \n",
    "    nama_guru = \"\"\n",
    "    def __init__(self, input_nama, input_jenjang, input_riwayat_pendidikan_terakhir, input_tempat_mengajar):\n",
    "        self.nama = input_nama\n",
    "        self.jenjang = input_jenjang\n",
    "        self.riwayat_pendidikan_terakhir = input_riwayat_pendidikan_terakhir\n",
    "        self.tempat_mengajar = input_tempat_mengajar\n",
    "        Guru.nama_guru = input_nama\n",
    "        \n",
    "    def salam(self):\n",
    "        print(\"Halo Selamat Pagi Murid-murid, Perkenalkan Nama Bapak\", self.nama)\n",
    "\n",
    "    def info(self):\n",
    "        print(f\"Nama: {self.nama}, Jenjang: {self.jenjang}, Riwayat Pendidikan Terakhir: {self.riwayat_pendidikan_terakhir}, Tempat Mengajar: {self.tempat_mengajar}\")\n",
    "\n",
    "guru1 = Guru(\"Victorio Jati Gumelar\", \"SD\", \"S1\", \"SDIT Ikhsanul Fikri\")\n",
    "\n",
    "guru1.info()\n",
    "guru1.salam()"
   ]
  },
  {
   "cell_type": "code",
   "execution_count": 45,
   "metadata": {},
   "outputs": [
    {
     "data": {
      "text/plain": [
       "'Victorio Jati Gumelar'"
      ]
     },
     "execution_count": 45,
     "metadata": {},
     "output_type": "execute_result"
    }
   ],
   "source": [
    "guru1.nama"
   ]
  },
  {
   "cell_type": "code",
   "execution_count": 46,
   "metadata": {},
   "outputs": [],
   "source": [
    "guru1.nama = \"Ersa Setya Dewi\""
   ]
  },
  {
   "cell_type": "code",
   "execution_count": 48,
   "metadata": {},
   "outputs": [
    {
     "data": {
      "text/plain": [
       "'Ersa Setya Dewi'"
      ]
     },
     "execution_count": 48,
     "metadata": {},
     "output_type": "execute_result"
    }
   ],
   "source": [
    "guru1.nama"
   ]
  },
  {
   "cell_type": "code",
   "execution_count": 49,
   "metadata": {},
   "outputs": [
    {
     "data": {
      "text/plain": [
       "'SD'"
      ]
     },
     "execution_count": 49,
     "metadata": {},
     "output_type": "execute_result"
    }
   ],
   "source": [
    "guru1.jenjang"
   ]
  },
  {
   "cell_type": "code",
   "execution_count": 50,
   "metadata": {},
   "outputs": [
    {
     "data": {
      "text/plain": [
       "'S1'"
      ]
     },
     "execution_count": 50,
     "metadata": {},
     "output_type": "execute_result"
    }
   ],
   "source": [
    "guru1.riwayat_pendidikan_terakhir"
   ]
  },
  {
   "cell_type": "code",
   "execution_count": 51,
   "metadata": {},
   "outputs": [
    {
     "data": {
      "text/plain": [
       "'SDIT Ikhsanul Fikri'"
      ]
     },
     "execution_count": 51,
     "metadata": {},
     "output_type": "execute_result"
    }
   ],
   "source": [
    "guru1.tempat_mengajar"
   ]
  },
  {
   "cell_type": "code",
   "execution_count": 30,
   "metadata": {},
   "outputs": [
    {
     "data": {
      "text/plain": [
       "6"
      ]
     },
     "execution_count": 30,
     "metadata": {},
     "output_type": "execute_result"
    }
   ],
   "source": [
    "mahasiswa1.semester"
   ]
  },
  {
   "cell_type": "code",
   "execution_count": 52,
   "metadata": {},
   "outputs": [
    {
     "name": "stdout",
     "output_type": "stream",
     "text": [
      "Nama: Ina Deana, Kelas: 7, Sekolah: SMPN 1 Ngablak, Usia: 13\n",
      "Hai perkenalkan nama saya Ina Deana\n"
     ]
    }
   ],
   "source": [
    "class Siswa(object):  \n",
    "    nama_siswa = \"\"\n",
    "    def __init__(self, input_nama, input_kelas, input_sekolah, input_usia):\n",
    "        self.nama = input_nama\n",
    "        self.kelas = input_kelas\n",
    "        self.sekolah = input_sekolah\n",
    "        self.usia = input_usia\n",
    "        Siswa.nama_siswa = input_nama\n",
    "        \n",
    "    def salam(self):\n",
    "        print(\"Hai perkenalkan nama saya\", self.nama)\n",
    "\n",
    "    def info(self):\n",
    "        print(f\"Nama: {self.nama}, Kelas: {self.kelas}, Sekolah: {self.sekolah}, Usia: {self.usia}\")\n",
    "\n",
    "siswa1 = Siswa(\"Ina Deana\", 7, \"SMPN 1 Ngablak\", 13)\n",
    "\n",
    "siswa1.info()\n",
    "siswa1.salam()"
   ]
  },
  {
   "cell_type": "code",
   "execution_count": 66,
   "metadata": {},
   "outputs": [
    {
     "data": {
      "text/plain": [
       "'Ina Deana'"
      ]
     },
     "execution_count": 66,
     "metadata": {},
     "output_type": "execute_result"
    }
   ],
   "source": [
    "siswa1.nama"
   ]
  },
  {
   "cell_type": "code",
   "execution_count": 67,
   "metadata": {},
   "outputs": [],
   "source": [
    "siswa1.nama = \"Kartika Fanya\""
   ]
  },
  {
   "cell_type": "code",
   "execution_count": 68,
   "metadata": {},
   "outputs": [
    {
     "data": {
      "text/plain": [
       "'Kartika Fanya'"
      ]
     },
     "execution_count": 68,
     "metadata": {},
     "output_type": "execute_result"
    }
   ],
   "source": [
    "siswa1.nama"
   ]
  },
  {
   "cell_type": "code",
   "execution_count": 70,
   "metadata": {},
   "outputs": [
    {
     "data": {
      "text/plain": [
       "7"
      ]
     },
     "execution_count": 70,
     "metadata": {},
     "output_type": "execute_result"
    }
   ],
   "source": [
    "siswa1.kelas"
   ]
  },
  {
   "cell_type": "code",
   "execution_count": 71,
   "metadata": {},
   "outputs": [
    {
     "data": {
      "text/plain": [
       "'SMPN 1 Ngablak'"
      ]
     },
     "execution_count": 71,
     "metadata": {},
     "output_type": "execute_result"
    }
   ],
   "source": [
    "siswa1.sekolah"
   ]
  },
  {
   "cell_type": "code",
   "execution_count": 72,
   "metadata": {},
   "outputs": [
    {
     "data": {
      "text/plain": [
       "13"
      ]
     },
     "execution_count": 72,
     "metadata": {},
     "output_type": "execute_result"
    }
   ],
   "source": [
    "siswa1.usia"
   ]
  },
  {
   "cell_type": "code",
   "execution_count": 7,
   "metadata": {
    "colab": {
     "base_uri": "https://localhost:8080/"
    },
    "id": "9-CEKFKYm2AA",
    "outputId": "2de8dfb7-1355-4bff-8fea-eeed46562f8a"
   },
   "outputs": [
    {
     "name": "stdout",
     "output_type": "stream",
     "text": [
      "Nama: Viktoria Jati Kinasih, Jurusan: Ilmu Komputer, Semester: 6, Angkatan: 2019\n",
      "Hai perkenalkan nama saya Viktoria Jati Kinasih\n"
     ]
    }
   ],
   "source": [
    "class Mahasiswa(object):  \n",
    "    nama_mahasiswa = \"\"\n",
    "    def __init__(self, input_nama, input_jurusan, input_semester, input_angkatan):\n",
    "        self.nama = input_nama\n",
    "        self.jurusan = input_jurusan\n",
    "        self.semester = input_semester\n",
    "        self.angkatan = input_angkatan\n",
    "        Mahasiswa.nama_mahasiswa = input_nama\n",
    "        \n",
    "    def salam(self):\n",
    "        print(\"Hai perkenalkan nama saya\", self.nama)\n",
    "\n",
    "    def info(self):\n",
    "        print(f\"Nama: {self.nama}, Jurusan: {self.jurusan}, Semester: {self.semester}, Angkatan: {self.angkatan}\")\n",
    "\n",
    "mahasiswa1 = Mahasiswa(\"Viktoria Jati Kinasih\", \"Ilmu Komputer\", 6, 2019)\n",
    "\n",
    "mahasiswa1.info()\n",
    "mahasiswa1.salam()"
   ]
  },
  {
   "cell_type": "code",
   "execution_count": 19,
   "metadata": {},
   "outputs": [
    {
     "data": {
      "text/plain": [
       "'Viktoria Jati Kinasih'"
      ]
     },
     "execution_count": 19,
     "metadata": {},
     "output_type": "execute_result"
    }
   ],
   "source": [
    "mahasiswa1.nama"
   ]
  },
  {
   "cell_type": "code",
   "execution_count": 28,
   "metadata": {},
   "outputs": [],
   "source": [
    "mahasiswa1.nama = \"Avesina Maulida Muhammad\""
   ]
  },
  {
   "cell_type": "code",
   "execution_count": 29,
   "metadata": {},
   "outputs": [
    {
     "data": {
      "text/plain": [
       "'Avesina Maulida Muhammad'"
      ]
     },
     "execution_count": 29,
     "metadata": {},
     "output_type": "execute_result"
    }
   ],
   "source": [
    "mahasiswa1.nama"
   ]
  },
  {
   "cell_type": "code",
   "execution_count": 24,
   "metadata": {},
   "outputs": [
    {
     "data": {
      "text/plain": [
       "'Ilmu Komputer'"
      ]
     },
     "execution_count": 24,
     "metadata": {},
     "output_type": "execute_result"
    }
   ],
   "source": [
    "mahasiswa1.jurusan"
   ]
  },
  {
   "cell_type": "code",
   "execution_count": 30,
   "metadata": {},
   "outputs": [
    {
     "data": {
      "text/plain": [
       "6"
      ]
     },
     "execution_count": 30,
     "metadata": {},
     "output_type": "execute_result"
    }
   ],
   "source": [
    "mahasiswa1.semester"
   ]
  },
  {
   "cell_type": "code",
   "execution_count": 31,
   "metadata": {},
   "outputs": [
    {
     "data": {
      "text/plain": [
       "2019"
      ]
     },
     "execution_count": 31,
     "metadata": {},
     "output_type": "execute_result"
    }
   ],
   "source": [
    "mahasiswa1.angkatan"
   ]
  },
  {
   "cell_type": "markdown",
   "metadata": {},
   "source": [
    "### Setter and Getter"
   ]
  },
  {
   "cell_type": "code",
   "execution_count": 25,
   "metadata": {},
   "outputs": [],
   "source": [
    "class Mahasiswa2(object):  \n",
    "    nama_mahasiswa = \"\"\n",
    "    def __init__(self, nama, jurusan, semester, angkatan):\n",
    "        self.nama = nama\n",
    "        self.jurusan = jurusan\n",
    "        self.semester = semester\n",
    "        self.angkatan = angkatan\n",
    "        Mahasiswa.nama_mahasiswa = nama\n",
    "\n",
    "    def salam(self):\n",
    "        print(\"Hai perkenalkan nama saya\", self.nama)\n",
    "\n",
    "    def get_info(self):\n",
    "        print(f\"Nama: {self.nama}, Jurusan: {self.jurusan}, Semester: {self.semester}, Angkatan: {self.angkatan}\")\n",
    "    \n",
    "    def get_nama(self):\n",
    "        return self.nama\n",
    "    \n",
    "    def get_jurusan(self):\n",
    "        return self.jurusan\n",
    "        "
   ]
  },
  {
   "cell_type": "code",
   "execution_count": 23,
   "metadata": {},
   "outputs": [],
   "source": [
    "mahasiswa2 = Mahasiswa2('Avesina Maulida Muhammad', 'Matematika', 8, 2018)"
   ]
  },
  {
   "cell_type": "code",
   "execution_count": 24,
   "metadata": {},
   "outputs": [
    {
     "name": "stdout",
     "output_type": "stream",
     "text": [
      "Hai perkenalkan nama saya Avesina Maulida Muhammad\n"
     ]
    }
   ],
   "source": [
    "mahasiswa2.salam()"
   ]
  },
  {
   "cell_type": "code",
   "execution_count": 26,
   "metadata": {},
   "outputs": [
    {
     "name": "stdout",
     "output_type": "stream",
     "text": [
      "Nama: Avesina Maulida Muhammad, Jurusan: Matematika, Semester: 8, Angkatan: 2018\n"
     ]
    }
   ],
   "source": [
    "mahasiswa2.get_info()"
   ]
  },
  {
   "cell_type": "code",
   "execution_count": 27,
   "metadata": {},
   "outputs": [
    {
     "data": {
      "text/plain": [
       "'Avesina Maulida Muhammad'"
      ]
     },
     "execution_count": 27,
     "metadata": {},
     "output_type": "execute_result"
    }
   ],
   "source": [
    "mahasiswa2.get_nama()"
   ]
  },
  {
   "cell_type": "code",
   "execution_count": 28,
   "metadata": {},
   "outputs": [
    {
     "data": {
      "text/plain": [
       "'Matematika'"
      ]
     },
     "execution_count": 28,
     "metadata": {},
     "output_type": "execute_result"
    }
   ],
   "source": [
    "mahasiswa2.get_jurusan()"
   ]
  },
  {
   "cell_type": "markdown",
   "metadata": {
    "id": "wBoEkCxewdrg"
   },
   "source": [
    "## **Inheritence**"
   ]
  },
  {
   "cell_type": "code",
   "execution_count": 34,
   "metadata": {
    "colab": {
     "base_uri": "https://localhost:8080/"
    },
    "id": "HsVgKNgowiRP",
    "outputId": "a8143bcf-8d90-4e68-ceb9-4c08d162fcfb"
   },
   "outputs": [
    {
     "name": "stdout",
     "output_type": "stream",
     "text": [
      "Nama: Ersa Setya Dewi, Alamat: Sowanan, Agama: Islam, Jenis kelamin: Perempuan\n"
     ]
    }
   ],
   "source": [
    "class Manusia(object):\n",
    "    def __init__(self, nama, alamat, agama, jenis_kelamin):\n",
    "        self.nama = nama\n",
    "        self.alamat = alamat\n",
    "        self.agama = agama\n",
    "        self.jenis_kelamin = jenis_kelamin\n",
    "\n",
    "    def info(self):\n",
    "        print(f\"Nama: {self.nama}, Alamat: {self.alamat}, Agama: {self.agama}, Jenis kelamin: {self.jenis_kelamin}\")\n",
    "\n",
    "manusia1 = Manusia(\"Ersa Setya Dewi\",\"Sowanan\", \"Islam\", \"Perempuan\")\n",
    "\n",
    "manusia1.info()"
   ]
  },
  {
   "cell_type": "code",
   "execution_count": 39,
   "metadata": {
    "colab": {
     "base_uri": "https://localhost:8080/"
    },
    "id": "HsVgKNgowiRP",
    "outputId": "a8143bcf-8d90-4e68-ceb9-4c08d162fcfb"
   },
   "outputs": [
    {
     "name": "stdout",
     "output_type": "stream",
     "text": [
      "Nama: Victorio Jati Gumelar, Alamat: Kopeng, Agama: Islam, Jenis kelamin: Laki - laki\n",
      "NIP: 123456789\n"
     ]
    }
   ],
   "source": [
    "class Guru(Manusia):\n",
    "    def __init__(self,  nama, alamat, agama, jenis_kelamin, NIP):\n",
    "        super().__init__(nama, alamat, agama, jenis_kelamin)\n",
    "        self.NIP = NIP\n",
    "\n",
    "    def info_guru(self):\n",
    "        super().info()\n",
    "        print(f\"NIP: {self.NIP}\")\n",
    "\n",
    "guru1 = Guru(\"Victorio Jati Gumelar\", \"Kopeng\", \"Islam\", \"Laki - laki\", 123456789)\n",
    "\n",
    "# guru1.info()\n",
    "guru1.info_guru()"
   ]
  },
  {
   "cell_type": "code",
   "execution_count": 36,
   "metadata": {},
   "outputs": [
    {
     "name": "stdout",
     "output_type": "stream",
     "text": [
      "Nama: Victorio Jati Ramadan, Alamat: Ngablak, Agama: Islam, Jenis kelamin: Laki - laki\n",
      "NISN: 987654321\n"
     ]
    }
   ],
   "source": [
    "class Siswa(Manusia):\n",
    "    def __init__(self,  nama, alamat, agama, jenis_kelamin, NISN):\n",
    "        super().__init__(nama, alamat, agama, jenis_kelamin)\n",
    "        self.NISN = NISN\n",
    "\n",
    "    def info_siswa(self):\n",
    "        super().info()\n",
    "        print(f\"NISN: {self.NISN}\")\n",
    "\n",
    "siswa1 = Siswa(\"Victorio Jati Ramadan\", \"Ngablak\", \"Islam\", \"Laki - laki\", 987654321)\n",
    "\n",
    "# siswa1.info()\n",
    "siswa1.info_siswa()"
   ]
  },
  {
   "cell_type": "code",
   "execution_count": 40,
   "metadata": {},
   "outputs": [
    {
     "name": "stdout",
     "output_type": "stream",
     "text": [
      "Nama: Viktoria Jati Kinasih, Alamat: Sowanan, Agama: Islam, Jenis kelamin: Sowanan\n",
      "NIM: 4611419081\n"
     ]
    }
   ],
   "source": [
    "class Mahasiswa(Manusia):\n",
    "    def __init__(self,  nama, alamat, agama, jenis_kelamin, NIM):\n",
    "        super().__init__(nama, alamat, agama, jenis_kelamin)\n",
    "        self.NIM = NIM\n",
    "\n",
    "    def info_mahasiswa(self):\n",
    "        super().info()\n",
    "        print(f\"NIM: {self.NIM}\")\n",
    "\n",
    "mahasiswa1 = Mahasiswa(\"Viktoria Jati Kinasih\", \"Sowanan\", \"Islam\", \"Sowanan\", 4611419081)\n",
    "\n",
    "# mahasiswa1.info()\n",
    "mahasiswa1.info_mahasiswa()"
   ]
  },
  {
   "cell_type": "markdown",
   "metadata": {
    "id": "Xpt9Lz6vqN-z"
   },
   "source": [
    "## **Abstraction**"
   ]
  },
  {
   "cell_type": "code",
   "execution_count": 56,
   "metadata": {
    "id": "-i66C4QcPS4N"
   },
   "outputs": [],
   "source": [
    "from abc import abstractmethod, ABC"
   ]
  },
  {
   "cell_type": "code",
   "execution_count": 65,
   "metadata": {
    "colab": {
     "base_uri": "https://localhost:8080/"
    },
    "id": "fwa_TEf-v_8f",
    "outputId": "836cbcfd-c599-460c-e7a4-28b7c1e7b776"
   },
   "outputs": [
    {
     "name": "stdout",
     "output_type": "stream",
     "text": [
      "Saya ingin menjadi guru yang baik bagi para siswa\n",
      "-.-.-.-.-.-.-.-.-.-.-.-.-.-.-.-.-.-.-.-.-.-.-.-.-.-.-.-.-.-.-.-.-.-.-\n",
      "Saya ingin lulus sekolah dan melanjutkan ke jenjang yang lebih tinggi\n",
      "-.-.-.-.-.-.-.-.-.-.-.-.-.-.-.-.-.-.-.-.-.-.-.-.-.-.-.-.-.-.-.-.-.-.-\n",
      "Saya ingin wisuda dengan predikat Cumlaude\n",
      "-.-.-.-.-.-.-.-.-.-.-.-.-.-.-.-.-.-.-.-.-.-.-.-.-.-.-.-.-.-.-.-.-.-.-\n",
      "guru merupakan bagian dari Absclass?  True\n",
      "siswa merupakan bagian dari Absclass?  True\n",
      "mahasiswa merupakan bagian dari Absclass?  True\n"
     ]
    }
   ],
   "source": [
    "class Absclass(ABC):\n",
    "    @abstractmethod\n",
    "    def Pencapaian(self):\n",
    "        pass\n",
    "\n",
    "        \n",
    "class Guru(Absclass):\n",
    "    def Pencapaian(self):\n",
    "        print(\"Saya ingin menjadi guru yang baik bagi para siswa\")  \n",
    "        \n",
    "class Siswa(Absclass):\n",
    "    def Pencapaian(self):\n",
    "        print(\"Saya ingin lulus sekolah dan melanjutkan ke jenjang yang lebih tinggi\")\n",
    "\n",
    "class Mahasiswa(Absclass):\n",
    "    def Pencapaian(self):\n",
    "        print(\"Saya ingin wisuda dengan predikat Cumlaude\") \n",
    "        \n",
    "#object of guru created\n",
    "guru = Guru()\n",
    "guru.Pencapaian()\n",
    "\n",
    "print (\"-.-.-.-.-.-.-.-.-.-.-.-.-.-.-.-.-.-.-.-.-.-.-.-.-.-.-.-.-.-.-.-.-.-.-\")\n",
    "\n",
    "#object of siswa created\n",
    "siswa = Siswa()\n",
    "siswa.Pencapaian()\n",
    "\n",
    "print (\"-.-.-.-.-.-.-.-.-.-.-.-.-.-.-.-.-.-.-.-.-.-.-.-.-.-.-.-.-.-.-.-.-.-.-\")\n",
    "\n",
    "#object of mahasiswa created\n",
    "mahasiswa = Mahasiswa()\n",
    "mahasiswa.Pencapaian()\n",
    "\n",
    "print (\"-.-.-.-.-.-.-.-.-.-.-.-.-.-.-.-.-.-.-.-.-.-.-.-.-.-.-.-.-.-.-.-.-.-.-\")\n",
    " \n",
    "print(\"guru merupakan bagian dari Absclass? \", isinstance(guru, Absclass))\n",
    "print(\"siswa merupakan bagian dari Absclass? \", isinstance(siswa, Absclass))\n",
    "print(\"mahasiswa merupakan bagian dari Absclass? \", isinstance(mahasiswa, Absclass))"
   ]
  },
  {
   "cell_type": "markdown",
   "metadata": {
    "id": "lLLHjBNp1HDe"
   },
   "source": [
    "## **Polymorphism**"
   ]
  },
  {
   "cell_type": "code",
   "execution_count": 85,
   "metadata": {
    "colab": {
     "base_uri": "https://localhost:8080/"
    },
    "id": "BZLA6LDrxDHr",
    "outputId": "8dda5f4a-c845-40af-a40b-e81b588dfe5a"
   },
   "outputs": [
    {
     "name": "stdout",
     "output_type": "stream",
     "text": [
      "Nama: Ery Luxmayanti, Alamat: Semarang, Agama: Islam, Jenis Kelamin: Perempuan\n",
      "NIP: 123123123\n",
      "Halo semuanya \n",
      "-.-.-.-.-.-.-.-.-.-.-.-.-.-.-.-.-.-.-.-.-.-.-.-.-.-.-.-.-.-.-.-.-.-.-.-.-.-.-.-\n",
      "Nama: Retno Pamulasih, Alamat: Magelang, Agama: Islam, Jenis Kelamin: Perempuan\n",
      "NISN: 321321321\n",
      "Halo semuanya \n",
      "-.-.-.-.-.-.-.-.-.-.-.-.-.-.-.-.-.-.-.-.-.-.-.-.-.-.-.-.-.-.-.-.-.-.-.-.-.-.-.-\n",
      "Nama: Hanan Turmudzi, Alamat: Magelang, Agama: Islam, Jenis Kelamin: Laki - laki\n",
      "NIM: 12233221\n",
      "Halo semuanya \n"
     ]
    }
   ],
   "source": [
    "class Manusia(object):\n",
    "  def __init__(self, nama, alamat, agama, jenis_kelamin):\n",
    "    self.nama = nama\n",
    "    self.alamat = alamat\n",
    "    self.agama = agama\n",
    "    self.jenis_kelamin = jenis_kelamin\n",
    "\n",
    "  def salam(self):\n",
    "      print(\"Halo semuanya \")\n",
    "\n",
    "  def info(self):\n",
    "    print(f\"Nama: {self.nama}, Alamat: {self.alamat}, Agama: {self.agama}, Jenis Kelamin: {self.jenis_kelamin}\")\n",
    "\n",
    "\n",
    "class Guru(Manusia):\n",
    "  def __init__(self, nama, alamat, agama, jenis_kelamin, NIP):\n",
    "    super().__init__(nama, alamat, agama, jenis_kelamin)\n",
    "    self.NIP = NIP\n",
    "\n",
    "  def info_guru(self):\n",
    "    print(f\"NIP: {self.NIP}\")\n",
    "\n",
    "class Siswa(Manusia):\n",
    "  def __init__(self, nama, alamat, agama, jenis_kelamin, NISN):\n",
    "    super().__init__(nama, alamat, agama, jenis_kelamin)\n",
    "    self.NISN = NISN\n",
    "    \n",
    "  def info_siswa(self):\n",
    "    print(f\"NISN: {self.NISN}\")\n",
    "\n",
    "class Mahasiswa(Manusia):\n",
    "  def __init__(self, nama, alamat, agama, jenis_kelamin, NIM):\n",
    "    super().__init__(nama, alamat, agama, jenis_kelamin)\n",
    "    self.NIM = NIM\n",
    "    \n",
    "  def info_mahasiswa(self):\n",
    "    print(f\"NIM: {self.NIM}\")\n",
    "\n",
    "guru1 = Guru(\"Ery Luxmayanti\", \"Semarang\", \"Islam\", \"Perempuan\", 123123123)\n",
    "\n",
    "guru1.info()\n",
    "guru1.info_guru()\n",
    "guru1.salam()\n",
    "\n",
    "print (\"-.-.-.-.-.-.-.-.-.-.-.-.-.-.-.-.-.-.-.-.-.-.-.-.-.-.-.-.-.-.-.-.-.-.-.-.-.-.-.-\")\n",
    "\n",
    "siswa1 = Siswa(\"Retno Pamulasih\", \"Magelang\", \"Islam\", \"Perempuan\", 321321321)\n",
    "\n",
    "siswa1.info()\n",
    "siswa1.info_siswa()\n",
    "siswa1.salam()\n",
    "\n",
    "print (\"-.-.-.-.-.-.-.-.-.-.-.-.-.-.-.-.-.-.-.-.-.-.-.-.-.-.-.-.-.-.-.-.-.-.-.-.-.-.-.-\")\n",
    "\n",
    "mahasiswa1 = Mahasiswa(\"Hanan Turmudzi\", \"Magelang\", \"Islam\", \"Laki - laki\", 12233221)\n",
    "\n",
    "mahasiswa1.info()\n",
    "mahasiswa1.info_mahasiswa()\n",
    "mahasiswa1.salam()"
   ]
  },
  {
   "cell_type": "markdown",
   "metadata": {},
   "source": [
    "## **Custom Modules**"
   ]
  },
  {
   "cell_type": "code",
   "execution_count": 117,
   "metadata": {},
   "outputs": [],
   "source": [
    "import function as fs"
   ]
  },
  {
   "cell_type": "code",
   "execution_count": 120,
   "metadata": {},
   "outputs": [],
   "source": [
    "guru_Rio = Guru(\"Victorio Jati Gumelar\", \"Kopeng\", \"Islam\", \"Laki - laki\", \"123456789\")"
   ]
  },
  {
   "cell_type": "code",
   "execution_count": 121,
   "metadata": {},
   "outputs": [
    {
     "name": "stdout",
     "output_type": "stream",
     "text": [
      "NIP: 123456789\n"
     ]
    }
   ],
   "source": [
    "guru_Rio.info_guru()"
   ]
  }
 ],
 "metadata": {
  "colab": {
   "collapsed_sections": [],
   "name": "Functions, OOP.ipynb",
   "provenance": []
  },
  "kernelspec": {
   "display_name": "Python 3 (ipykernel)",
   "language": "python",
   "name": "python3"
  },
  "language_info": {
   "codemirror_mode": {
    "name": "ipython",
    "version": 3
   },
   "file_extension": ".py",
   "mimetype": "text/x-python",
   "name": "python",
   "nbconvert_exporter": "python",
   "pygments_lexer": "ipython3",
   "version": "3.9.7"
  }
 },
 "nbformat": 4,
 "nbformat_minor": 1
}
